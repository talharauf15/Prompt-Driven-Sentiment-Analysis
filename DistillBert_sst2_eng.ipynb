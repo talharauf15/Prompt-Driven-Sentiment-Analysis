{
  "nbformat": 4,
  "nbformat_minor": 0,
  "metadata": {
    "colab": {
      "provenance": [],
      "gpuType": "T4"
    },
    "kernelspec": {
      "name": "python3",
      "display_name": "Python 3"
    },
    "language_info": {
      "name": "python"
    },
    "accelerator": "GPU"
  },
  "cells": [
    {
      "cell_type": "code",
      "execution_count": 2,
      "metadata": {
        "id": "FLivcknItgKE"
      },
      "outputs": [],
      "source": [
        "# Load model directly\n",
        "from transformers import AutoTokenizer, AutoModelForSequenceClassification\n",
        "\n",
        "tokenizer = AutoTokenizer.from_pretrained(\"distilbert/distilbert-base-uncased-finetuned-sst-2-english\")\n",
        "model = AutoModelForSequenceClassification.from_pretrained(\"distilbert/distilbert-base-uncased-finetuned-sst-2-english\")"
      ]
    },
    {
      "cell_type": "code",
      "source": [
        "import torch\n",
        "\n",
        "input = tokenizer(\"I am not happy\", return_tensors=\"pt\")\n",
        "\n",
        "output = model(**input)\n",
        "\n",
        "logits = output.logits\n",
        "\n",
        "predicted_class_id = torch.argmax(logits).item()\n",
        "\n",
        "if predicted_class_id == 0:\n",
        "    print(\"Negative sentiment\")\n",
        "elif predicted_class_id == 1:\n",
        "    print(\"Positive sentiment\")\n",
        "else:\n",
        "    print(\"Neutral sentiment\")\n"
      ],
      "metadata": {
        "colab": {
          "base_uri": "https://localhost:8080/"
        },
        "id": "hy_CrlGtx7FB",
        "outputId": "218b6d23-81d4-4142-ba37-7621b9918ed5"
      },
      "execution_count": 3,
      "outputs": [
        {
          "output_type": "stream",
          "name": "stdout",
          "text": [
            "Negative sentiment\n"
          ]
        }
      ]
    }
  ]
}